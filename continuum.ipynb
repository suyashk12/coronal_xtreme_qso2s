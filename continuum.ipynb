{
 "cells": [
  {
   "cell_type": "code",
   "execution_count": 3,
   "metadata": {},
   "outputs": [
    {
     "name": "stdout",
     "output_type": "stream",
     "text": [
      "4.2857142857142855e-19 -9.928571428571428e-16\n"
     ]
    }
   ],
   "source": [
    "x1 = 3950\n",
    "x2 = 5350\n",
    "\n",
    "y1 = .7E-15\n",
    "y2 = 1.3E-15\n",
    "\n",
    "m = (y2-y1)/(x2-x1)\n",
    "b = y1-m*x1\n",
    "\n",
    "print(m, b)"
   ]
  },
  {
   "cell_type": "code",
   "execution_count": 11,
   "metadata": {},
   "outputs": [],
   "source": [
    "def continuum_eso(x):\n",
    "    return (1.25 + (4.76*(x-10.5)/194.25))*1000"
   ]
  },
  {
   "cell_type": "code",
   "execution_count": 12,
   "metadata": {},
   "outputs": [],
   "source": [
    "def continuum_tololo(lam):\n",
    "    return (4.29E-2*lam - 9.93*10)"
   ]
  },
  {
   "cell_type": "code",
   "execution_count": 19,
   "metadata": {},
   "outputs": [],
   "source": [
    "line_dict = {'H_alpha': [10.4, 6564.6140], 'H_beta': [10.5, 4862.6830],\n",
    "            '[O_III] 5007': [10.5, 5008.2397], 'C_III] 1908': [-10.5, 1908.734],\n",
    "            'He_II 4685': [10.5, 4686.9915], '[Ne_III] 3868': [5.25, 3869.8568],\n",
    "             '[N_II] 6583': [10.4, 6585.2685]}"
   ]
  },
  {
   "cell_type": "code",
   "execution_count": 20,
   "metadata": {},
   "outputs": [
    {
     "name": "stdout",
     "output_type": "stream",
     "text": [
      "ESO continuua\n",
      "=============\n",
      "H_alpha 1247.5495495495497\n",
      "H_beta 1250.0\n",
      "[O_III] 5007 1250.0\n",
      "C_III] 1908 735.4054054054054\n",
      "He_II 4685 1250.0\n",
      "[Ne_III] 3868 1121.3513513513512\n",
      "[N_II] 6583 1247.5495495495497\n"
     ]
    }
   ],
   "source": [
    "print('ESO continuua')\n",
    "print('=============')\n",
    "for l in list(line_dict.keys()):\n",
    "    print(l, continuum(line_dict[l][0], 'eso'))"
   ]
  },
  {
   "cell_type": "code",
   "execution_count": 21,
   "metadata": {},
   "outputs": [
    {
     "name": "stdout",
     "output_type": "stream",
     "text": [
      "Tololo continuua\n",
      "=============\n",
      "H_alpha 182.32194059999995\n",
      "H_beta 109.3091007\n",
      "[O_III] 5007 115.55348313\n",
      "C_III] 1908 -17.415311399999993\n",
      "He_II 4685 101.77193535000002\n",
      "[Ne_III] 3868 66.71685672\n",
      "[N_II] 6583 183.20801864999999\n"
     ]
    }
   ],
   "source": [
    "print('Tololo continuua')\n",
    "print('=============')\n",
    "for l in list(line_dict.keys()):\n",
    "    print(l, continuum_tololo(line_dict[l][1]))"
   ]
  },
  {
   "cell_type": "code",
   "execution_count": 22,
   "metadata": {},
   "outputs": [
    {
     "data": {
      "text/plain": [
       "146.1309"
      ]
     },
     "execution_count": 22,
     "metadata": {},
     "output_type": "execute_result"
    }
   ],
   "source": [
    "continuum_tololo(5721)"
   ]
  },
  {
   "cell_type": "code",
   "execution_count": null,
   "metadata": {},
   "outputs": [],
   "source": []
  }
 ],
 "metadata": {
  "kernelspec": {
   "display_name": "Python 3",
   "language": "python",
   "name": "python3"
  },
  "language_info": {
   "codemirror_mode": {
    "name": "ipython",
    "version": 3
   },
   "file_extension": ".py",
   "mimetype": "text/x-python",
   "name": "python",
   "nbconvert_exporter": "python",
   "pygments_lexer": "ipython3",
   "version": "3.8.5"
  }
 },
 "nbformat": 4,
 "nbformat_minor": 4
}
